{
 "cells": [
  {
   "cell_type": "markdown",
   "metadata": {},
   "source": [
    "# Introduction"
   ]
  },
  {
   "cell_type": "markdown",
   "metadata": {},
   "source": [
    "## 저급언어 vs. 고급언어\n",
    "- 저급(프로그래밍)언어\n",
    "    - 기계(물리적 컴퓨터의 CPU, 가상머신 등)에서 직접 실행될 목적으로 만들어진 언어 (기계어, 가상머신의 바이트코드)\n",
    "- 고급(프로그래밍)언어\n",
    "    - 사람이 작성하기 용이하게 설계된 프로그래밍 언어\n",
    "\n",
    "저급언어로 구성된 실행파일은 기계(컴퓨터 혹은 가상머신)에서 직접 실행 가능\n",
    "\n",
    "고급언어로 작성된 소스코드는 기계(컴퓨터 혹은 가상머신)에서 직접 실행하지 못함\n",
    " - 인터프리터라는 실행파일을 통해 실행하거나\n",
    " - 컴파일러를 통해 특정 소스코드의 의미에 대응되는 특정 실행파일을 만들어내서 실행"
   ]
  },
  {
   "cell_type": "markdown",
   "metadata": {},
   "source": [
    "## 인터프리터(interpreter) vs. 컴파일러(compiler)\n",
    "\n",
    "유투브 영상 시청 https://youtu.be/Dx2tSsd3aFc\n",
    "\n",
    "* 인터프리터 특징\n",
    "  - 한 문장(혹은 명령)씩 동시통역\n",
    "  - 코드를 입력하자마자 동작 (빠른 시작)\n",
    "  - 통역된 내용대로 신속히 처리했더라도 다음 문장(혹은 명령)이 통역될 때까지 기다려야\n",
    "\n",
    "\n",
    "* 컴파일러 특징\n",
    "  - 프로그램(혹은 모듈)을 이루는 여러 문장(혹은 명령) 한꺼번에 번역\n",
    "  - 번역하는 데 프로그램의 크기에 따라 어느 정도 시간이 걸림\n",
    "  - 이미 번역되어 있는 문장(혹은 명령)을 연속해 실행하므로 인터프리터에 비해 효율적\n",
    "  \n",
    "\n",
    "JIT컴파일(just-in-time compilation): 인터프리터로 실행하기 시작해 실행 중에 코드를 부분 부분 컴파일하는 방식의 기술"
   ]
  },
  {
   "cell_type": "markdown",
   "metadata": {},
   "source": [
    "----\n",
    "쉬어가기: 인터프리터로 돈을 번 유명한 회사가 있다는데 ...\n",
    "\n",
    "----"
   ]
  },
  {
   "cell_type": "markdown",
   "metadata": {},
   "source": [
    "----\n",
    "쉬어가기: CPU/가상머신은 기계어/바이트코드의 `______`이다\n",
    "\n",
    "----"
   ]
  },
  {
   "cell_type": "code",
   "execution_count": null,
   "metadata": {},
   "outputs": [],
   "source": []
  },
  {
   "cell_type": "markdown",
   "metadata": {},
   "source": [
    "## 고급 언어를 컴파일러로 처리하는 과정\n",
    "\n",
    "- 앞단(front-end)\n",
    "  - 어휘분석(lexical analysis, lexing)\n",
    "  - 구문분석(syntax analysis, parsing)\n",
    "  - 의미분석(semantic analysis)\n",
    "- 가운데단(middle-end)\n",
    "  - 최적화(optmization)\n",
    "- 뒷단(back-end)\n",
    "  - 코드생성(code generation)\n",
    "\n",
    "\n",
    "----\n",
    "앞단 처리 과정 중 어휘분석과 구문분석 보기:\n",
    "```\n",
    "\" if a1 < b2 then a1 + b2 * 2 else 2 * (a1 - b2)\"\n",
    "\n",
    "                |\n",
    "                | 어휘분석(lexing) - 문자열 소스코드를 토큰화(tonkenize)\n",
    "                V\n",
    "\n",
    "if, a1, <, b2, then, a1, +, b2, *, 2, else, 2, *, (, a1, -, b2, )\n",
    "\n",
    "                |\n",
    "                | 구문분석(parsing) - 토큰열을 구체적 문법으로 분석하여 추상문법나무(AST)로\n",
    "                V\n",
    "\n",
    "              if_then_else_\n",
    "              /     |      \\\n",
    "             /      |       \\\n",
    "            /       |        \\\n",
    "           <        +         *\n",
    "          / \\      / \\       / \\\n",
    "        a1  b2    a1  *     2   -\n",
    "                     / \\       / \\\n",
    "                    b2  2     a1  b2\n",
    "```\n",
    "\n",
    "교대원 오토마타이론 수업이나 고급프로그래밍언어 수업 등에서도 다룰 수 있는 내용이므로\n",
    "위 보기를 살펴보며 간단히 관련 개념만 정리하고 넘어가자.\n",
    " - 구체적 문법(concrete syntax)\n",
    " - 추상적 문법(abstract syntax)\n",
    "\n",
    "----"
   ]
  },
  {
   "cell_type": "markdown",
   "metadata": {},
   "source": []
  },
  {
   "cell_type": "code",
   "execution_count": null,
   "metadata": {},
   "outputs": [],
   "source": []
  }
 ],
 "metadata": {
  "kernelspec": {
   "display_name": "Haskell",
   "language": "haskell",
   "name": "haskell"
  },
  "language_info": {
   "codemirror_mode": "Haskell",
   "file_extension": ".hs",
   "mimetype": "text/x-haskell",
   "name": "haskell",
   "pygments_lexer": "Haskell",
   "version": "8.8.4"
  }
 },
 "nbformat": 4,
 "nbformat_minor": 4
}
